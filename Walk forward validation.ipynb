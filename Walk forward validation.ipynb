{
 "cells": [
  {
   "cell_type": "markdown",
   "id": "db6712a9",
   "metadata": {},
   "source": [
    "## Import libraries"
   ]
  },
  {
   "cell_type": "code",
   "execution_count": 1,
   "id": "91a809dc",
   "metadata": {},
   "outputs": [],
   "source": [
    "import pandas as pd\n",
    "import matplotlib.pyplot as plt\n",
    "import numpy as np\n",
    "\n",
    "import itertools\n",
    "\n",
    "from sklearn.metrics import mean_squared_error\n",
    "from statsmodels.tsa.holtwinters import ExponentialSmoothing"
   ]
  },
  {
   "cell_type": "markdown",
   "id": "977d5cd1",
   "metadata": {},
   "source": [
    "## Import data"
   ]
  },
  {
   "cell_type": "code",
   "execution_count": 2,
   "id": "4bbe6cdb",
   "metadata": {},
   "outputs": [],
   "source": [
    "#data retrive from https:lazyprogrammer.me/course_files/airline_passengers.csv\n",
    "df = pd.read_csv('AirPassengers.csv',index_col = 'Month', parse_dates=True)"
   ]
  },
  {
   "cell_type": "code",
   "execution_count": 3,
   "id": "bf5fc98b",
   "metadata": {},
   "outputs": [],
   "source": [
    "df.index.freq = 'MS'"
   ]
  },
  {
   "cell_type": "code",
   "execution_count": 4,
   "id": "a62833e5",
   "metadata": {},
   "outputs": [
    {
     "data": {
      "text/plain": [
       "(144, 1)"
      ]
     },
     "execution_count": 4,
     "metadata": {},
     "output_type": "execute_result"
    }
   ],
   "source": [
    "# Checking the number of sample (row, column)\n",
    "df.shape"
   ]
  },
  {
   "cell_type": "code",
   "execution_count": 5,
   "id": "423fa358",
   "metadata": {},
   "outputs": [
    {
     "data": {
      "text/plain": [
       "144"
      ]
     },
     "execution_count": 5,
     "metadata": {},
     "output_type": "execute_result"
    }
   ],
   "source": [
    "# Checking the number of sample\n",
    "len(df)"
   ]
  },
  {
   "cell_type": "code",
   "execution_count": 6,
   "id": "e6a327d5",
   "metadata": {},
   "outputs": [
    {
     "data": {
      "text/html": [
       "<div>\n",
       "<style scoped>\n",
       "    .dataframe tbody tr th:only-of-type {\n",
       "        vertical-align: middle;\n",
       "    }\n",
       "\n",
       "    .dataframe tbody tr th {\n",
       "        vertical-align: top;\n",
       "    }\n",
       "\n",
       "    .dataframe thead th {\n",
       "        text-align: right;\n",
       "    }\n",
       "</style>\n",
       "<table border=\"1\" class=\"dataframe\">\n",
       "  <thead>\n",
       "    <tr style=\"text-align: right;\">\n",
       "      <th></th>\n",
       "      <th>#Passengers</th>\n",
       "    </tr>\n",
       "    <tr>\n",
       "      <th>Month</th>\n",
       "      <th></th>\n",
       "    </tr>\n",
       "  </thead>\n",
       "  <tbody>\n",
       "    <tr>\n",
       "      <th>1949-01-01</th>\n",
       "      <td>112</td>\n",
       "    </tr>\n",
       "    <tr>\n",
       "      <th>1949-02-01</th>\n",
       "      <td>118</td>\n",
       "    </tr>\n",
       "    <tr>\n",
       "      <th>1949-03-01</th>\n",
       "      <td>132</td>\n",
       "    </tr>\n",
       "    <tr>\n",
       "      <th>1949-04-01</th>\n",
       "      <td>129</td>\n",
       "    </tr>\n",
       "    <tr>\n",
       "      <th>1949-05-01</th>\n",
       "      <td>121</td>\n",
       "    </tr>\n",
       "  </tbody>\n",
       "</table>\n",
       "</div>"
      ],
      "text/plain": [
       "            #Passengers\n",
       "Month                  \n",
       "1949-01-01          112\n",
       "1949-02-01          118\n",
       "1949-03-01          132\n",
       "1949-04-01          129\n",
       "1949-05-01          121"
      ]
     },
     "execution_count": 6,
     "metadata": {},
     "output_type": "execute_result"
    }
   ],
   "source": [
    "df.head()"
   ]
  },
  {
   "cell_type": "markdown",
   "id": "7cbf2521",
   "metadata": {},
   "source": [
    "## Working out with the walk forward cross valdiation"
   ]
  },
  {
   "cell_type": "markdown",
   "id": "c0b74f72",
   "metadata": {},
   "source": [
    "### Step 1: Indetify the number of train, validation and test size"
   ]
  },
  {
   "cell_type": "code",
   "execution_count": 7,
   "id": "0c4ddfa8",
   "metadata": {},
   "outputs": [],
   "source": [
    "# Assume the forecast horizon we care is about 12\n",
    "# Validate over 10 steps\n",
    "h = 12\n",
    "steps = 10\n",
    "Ntest = len(df) - h - steps + 1"
   ]
  },
  {
   "cell_type": "code",
   "execution_count": 8,
   "id": "df49eadf",
   "metadata": {},
   "outputs": [
    {
     "data": {
      "text/plain": [
       "123"
      ]
     },
     "execution_count": 8,
     "metadata": {},
     "output_type": "execute_result"
    }
   ],
   "source": [
    "Ntest"
   ]
  },
  {
   "cell_type": "markdown",
   "id": "acabe29d",
   "metadata": {},
   "source": [
    "### Step 2: Set some configuration options"
   ]
  },
  {
   "cell_type": "code",
   "execution_count": 9,
   "id": "837ab917",
   "metadata": {},
   "outputs": [],
   "source": [
    "# Configurations hyperparameters to try\n",
    "trend_type_list = ['add','mul']\n",
    "seasonal_type_list = ['add','mul']\n",
    "damped_trend_list = [True, False]\n",
    "init_method_list = ['estimated','heuristic','legacy-heuristic']\n",
    "use_boxcox_list = [True, False, 0]"
   ]
  },
  {
   "cell_type": "markdown",
   "id": "c353f7e5",
   "metadata": {},
   "source": [
    "### Step 3: Set function or walk forward cross validation"
   ]
  },
  {
   "cell_type": "code",
   "execution_count": 13,
   "id": "6c0aedb2",
   "metadata": {},
   "outputs": [],
   "source": [
    "def walkforward(\n",
    "    trend_type,\n",
    "    seasonal_type,\n",
    "    damped_trend,\n",
    "    init_method,\n",
    "    use_boxcox,\n",
    "    debug=False):\n",
    "    \n",
    "    # store errors from each round\n",
    "    errors = []\n",
    "    seen_last = False # a flag that will tell us whether or not we've looped up to the final row in the df\n",
    "    steps_completed = 0 # increment this by one on each round and by the end of the loop it should be equal to no of steps defined earlier\n",
    "    \n",
    "    for end_of_train in range(Ntest, len(df) - h  + 1):\n",
    "        train = df.iloc[:end_of_train]\n",
    "        test = df.iloc[end_of_train: end_of_train + h]\n",
    "    \n",
    "        if test.index[-1] == df.index[-1]:\n",
    "            seen_last = True\n",
    "    \n",
    "        steps_completed += 1\n",
    "    \n",
    "        # Instantiate the model\n",
    "        hw = ExponentialSmoothing(\n",
    "            train['#Passengers'], \n",
    "            initialization_method = init_method,\n",
    "            trend = trend_type,\n",
    "            damped_trend = damped_trend,\n",
    "            seasonal = seasonal_type,\n",
    "            seasonal_periods=12,\n",
    "            use_boxcox = use_boxcox)\n",
    "        res_hw = hw.fit()\n",
    "    \n",
    "        # Compute error for the forecast horizon\n",
    "        fcast = res_hw.forecast(h)\n",
    "        error = mean_squared_error(test['#Passengers'], fcast)\n",
    "        errors.append(error)\n",
    "    \n",
    "    if debug:\n",
    "        print (\"seen_last:\", seen_last)\n",
    "        print (\"steps completed:\", steps_completed)\n",
    "        \n",
    "    return np.mean(errors)"
   ]
  },
  {
   "cell_type": "markdown",
   "id": "dc5b6c49",
   "metadata": {},
   "source": [
    "### Step 4: Test our function"
   ]
  },
  {
   "cell_type": "code",
   "execution_count": 14,
   "id": "5e792da7",
   "metadata": {},
   "outputs": [
    {
     "name": "stdout",
     "output_type": "stream",
     "text": [
      "seen_last: True\n",
      "steps completed: 10\n"
     ]
    },
    {
     "data": {
      "text/plain": [
       "2521.0305142383577"
      ]
     },
     "execution_count": 14,
     "metadata": {},
     "output_type": "execute_result"
    }
   ],
   "source": [
    "walkforward (trend_type = 'add',\n",
    "             seasonal_type = 'add',\n",
    "             damped_trend = False,\n",
    "             init_method = 'legacy-heuristic',\n",
    "             use_boxcox = 0,\n",
    "             debug = True)"
   ]
  },
  {
   "cell_type": "markdown",
   "id": "c6ead25e",
   "metadata": {},
   "source": [
    "### Step 5: Iterate through all possible functions (i.e. grid search)"
   ]
  },
  {
   "cell_type": "code",
   "execution_count": 16,
   "id": "028f7ec4",
   "metadata": {},
   "outputs": [
    {
     "name": "stdout",
     "output_type": "stream",
     "text": [
      "('add', 'add', True, 'estimated', True)\n",
      "('add', 'add', True, 'estimated', False)\n",
      "('add', 'add', True, 'estimated', 0)\n",
      "('add', 'add', True, 'heuristic', True)\n",
      "('add', 'add', True, 'heuristic', False)\n",
      "('add', 'add', True, 'heuristic', 0)\n",
      "('add', 'add', True, 'legacy-heuristic', True)\n",
      "('add', 'add', True, 'legacy-heuristic', False)\n",
      "('add', 'add', True, 'legacy-heuristic', 0)\n",
      "('add', 'add', False, 'estimated', True)\n",
      "('add', 'add', False, 'estimated', False)\n",
      "('add', 'add', False, 'estimated', 0)\n",
      "('add', 'add', False, 'heuristic', True)\n",
      "('add', 'add', False, 'heuristic', False)\n",
      "('add', 'add', False, 'heuristic', 0)\n",
      "('add', 'add', False, 'legacy-heuristic', True)\n",
      "('add', 'add', False, 'legacy-heuristic', False)\n",
      "('add', 'add', False, 'legacy-heuristic', 0)\n",
      "('add', 'mul', True, 'estimated', True)\n",
      "('add', 'mul', True, 'estimated', False)\n",
      "('add', 'mul', True, 'estimated', 0)\n",
      "('add', 'mul', True, 'heuristic', True)\n",
      "('add', 'mul', True, 'heuristic', False)\n",
      "('add', 'mul', True, 'heuristic', 0)\n",
      "('add', 'mul', True, 'legacy-heuristic', True)\n",
      "('add', 'mul', True, 'legacy-heuristic', False)\n",
      "('add', 'mul', True, 'legacy-heuristic', 0)\n",
      "('add', 'mul', False, 'estimated', True)\n",
      "('add', 'mul', False, 'estimated', False)\n",
      "('add', 'mul', False, 'estimated', 0)\n",
      "('add', 'mul', False, 'heuristic', True)\n",
      "('add', 'mul', False, 'heuristic', False)\n",
      "('add', 'mul', False, 'heuristic', 0)\n",
      "('add', 'mul', False, 'legacy-heuristic', True)\n",
      "('add', 'mul', False, 'legacy-heuristic', False)\n",
      "('add', 'mul', False, 'legacy-heuristic', 0)\n",
      "('mul', 'add', True, 'estimated', True)\n",
      "('mul', 'add', True, 'estimated', False)\n",
      "('mul', 'add', True, 'estimated', 0)\n",
      "('mul', 'add', True, 'heuristic', True)\n",
      "('mul', 'add', True, 'heuristic', False)\n",
      "('mul', 'add', True, 'heuristic', 0)\n",
      "('mul', 'add', True, 'legacy-heuristic', True)\n",
      "('mul', 'add', True, 'legacy-heuristic', False)\n",
      "('mul', 'add', True, 'legacy-heuristic', 0)\n",
      "('mul', 'add', False, 'estimated', True)\n",
      "('mul', 'add', False, 'estimated', False)\n",
      "('mul', 'add', False, 'estimated', 0)\n",
      "('mul', 'add', False, 'heuristic', True)\n",
      "('mul', 'add', False, 'heuristic', False)\n",
      "('mul', 'add', False, 'heuristic', 0)\n",
      "('mul', 'add', False, 'legacy-heuristic', True)\n",
      "('mul', 'add', False, 'legacy-heuristic', False)\n",
      "('mul', 'add', False, 'legacy-heuristic', 0)\n",
      "('mul', 'mul', True, 'estimated', True)\n",
      "('mul', 'mul', True, 'estimated', False)\n",
      "('mul', 'mul', True, 'estimated', 0)\n",
      "('mul', 'mul', True, 'heuristic', True)\n",
      "('mul', 'mul', True, 'heuristic', False)\n",
      "('mul', 'mul', True, 'heuristic', 0)\n",
      "('mul', 'mul', True, 'legacy-heuristic', True)\n",
      "('mul', 'mul', True, 'legacy-heuristic', False)\n",
      "('mul', 'mul', True, 'legacy-heuristic', 0)\n",
      "('mul', 'mul', False, 'estimated', True)\n",
      "('mul', 'mul', False, 'estimated', False)\n",
      "('mul', 'mul', False, 'estimated', 0)\n",
      "('mul', 'mul', False, 'heuristic', True)\n",
      "('mul', 'mul', False, 'heuristic', False)\n",
      "('mul', 'mul', False, 'heuristic', 0)\n",
      "('mul', 'mul', False, 'legacy-heuristic', True)\n",
      "('mul', 'mul', False, 'legacy-heuristic', False)\n",
      "('mul', 'mul', False, 'legacy-heuristic', 0)\n"
     ]
    }
   ],
   "source": [
    "tuple_of_option_lists = (trend_type_list,\n",
    "                         seasonal_type_list,\n",
    "                         damped_trend_list,\n",
    "                         init_method_list,\n",
    "                         use_boxcox_list)\n",
    "\n",
    "for x in itertools.product(*tuple_of_option_lists):\n",
    "    print(x)"
   ]
  },
  {
   "cell_type": "code",
   "execution_count": 18,
   "id": "7fed58a6",
   "metadata": {},
   "outputs": [
    {
     "name": "stdout",
     "output_type": "stream",
     "text": [
      "Best score so far: 412.81720294821025\n",
      "Best score so far: 412.7068213361361\n",
      "Best score so far: 320.6640771493606\n"
     ]
    },
    {
     "name": "stderr",
     "output_type": "stream",
     "text": [
      "C:\\Users\\asus\\anaconda3\\lib\\site-packages\\statsmodels\\tsa\\holtwinters\\model.py:83: RuntimeWarning: overflow encountered in matmul\n",
      "  return err.T @ err\n",
      "C:\\Users\\asus\\anaconda3\\lib\\site-packages\\statsmodels\\tsa\\holtwinters\\model.py:83: RuntimeWarning: overflow encountered in matmul\n",
      "  return err.T @ err\n",
      "C:\\Users\\asus\\anaconda3\\lib\\site-packages\\statsmodels\\tsa\\holtwinters\\model.py:83: RuntimeWarning: overflow encountered in matmul\n",
      "  return err.T @ err\n",
      "C:\\Users\\asus\\anaconda3\\lib\\site-packages\\statsmodels\\tsa\\holtwinters\\model.py:83: RuntimeWarning: overflow encountered in matmul\n",
      "  return err.T @ err\n",
      "C:\\Users\\asus\\anaconda3\\lib\\site-packages\\statsmodels\\tsa\\holtwinters\\model.py:83: RuntimeWarning: overflow encountered in matmul\n",
      "  return err.T @ err\n",
      "C:\\Users\\asus\\anaconda3\\lib\\site-packages\\statsmodels\\tsa\\holtwinters\\model.py:83: RuntimeWarning: overflow encountered in matmul\n",
      "  return err.T @ err\n",
      "C:\\Users\\asus\\anaconda3\\lib\\site-packages\\statsmodels\\tsa\\holtwinters\\model.py:83: RuntimeWarning: overflow encountered in matmul\n",
      "  return err.T @ err\n",
      "C:\\Users\\asus\\anaconda3\\lib\\site-packages\\statsmodels\\tsa\\holtwinters\\model.py:83: RuntimeWarning: overflow encountered in matmul\n",
      "  return err.T @ err\n",
      "C:\\Users\\asus\\anaconda3\\lib\\site-packages\\statsmodels\\tsa\\holtwinters\\model.py:83: RuntimeWarning: overflow encountered in matmul\n",
      "  return err.T @ err\n",
      "C:\\Users\\asus\\anaconda3\\lib\\site-packages\\statsmodels\\tsa\\holtwinters\\model.py:83: RuntimeWarning: overflow encountered in matmul\n",
      "  return err.T @ err\n",
      "C:\\Users\\asus\\anaconda3\\lib\\site-packages\\statsmodels\\tsa\\holtwinters\\model.py:83: RuntimeWarning: overflow encountered in matmul\n",
      "  return err.T @ err\n",
      "C:\\Users\\asus\\anaconda3\\lib\\site-packages\\statsmodels\\tsa\\holtwinters\\model.py:83: RuntimeWarning: overflow encountered in matmul\n",
      "  return err.T @ err\n",
      "C:\\Users\\asus\\anaconda3\\lib\\site-packages\\statsmodels\\tsa\\holtwinters\\model.py:83: RuntimeWarning: overflow encountered in matmul\n",
      "  return err.T @ err\n",
      "C:\\Users\\asus\\anaconda3\\lib\\site-packages\\statsmodels\\tsa\\holtwinters\\model.py:83: RuntimeWarning: overflow encountered in matmul\n",
      "  return err.T @ err\n",
      "C:\\Users\\asus\\anaconda3\\lib\\site-packages\\statsmodels\\tsa\\holtwinters\\model.py:83: RuntimeWarning: overflow encountered in matmul\n",
      "  return err.T @ err\n",
      "C:\\Users\\asus\\anaconda3\\lib\\site-packages\\statsmodels\\tsa\\holtwinters\\model.py:83: RuntimeWarning: overflow encountered in matmul\n",
      "  return err.T @ err\n",
      "C:\\Users\\asus\\anaconda3\\lib\\site-packages\\statsmodels\\tsa\\holtwinters\\model.py:83: RuntimeWarning: overflow encountered in matmul\n",
      "  return err.T @ err\n",
      "C:\\Users\\asus\\anaconda3\\lib\\site-packages\\statsmodels\\tsa\\holtwinters\\model.py:83: RuntimeWarning: overflow encountered in matmul\n",
      "  return err.T @ err\n",
      "C:\\Users\\asus\\anaconda3\\lib\\site-packages\\statsmodels\\tsa\\holtwinters\\model.py:83: RuntimeWarning: overflow encountered in matmul\n",
      "  return err.T @ err\n",
      "C:\\Users\\asus\\anaconda3\\lib\\site-packages\\statsmodels\\tsa\\holtwinters\\model.py:83: RuntimeWarning: overflow encountered in matmul\n",
      "  return err.T @ err\n",
      "C:\\Users\\asus\\anaconda3\\lib\\site-packages\\statsmodels\\tsa\\holtwinters\\model.py:83: RuntimeWarning: overflow encountered in matmul\n",
      "  return err.T @ err\n",
      "C:\\Users\\asus\\anaconda3\\lib\\site-packages\\statsmodels\\tsa\\holtwinters\\model.py:83: RuntimeWarning: overflow encountered in matmul\n",
      "  return err.T @ err\n",
      "C:\\Users\\asus\\anaconda3\\lib\\site-packages\\statsmodels\\tsa\\holtwinters\\model.py:83: RuntimeWarning: overflow encountered in matmul\n",
      "  return err.T @ err\n"
     ]
    },
    {
     "name": "stdout",
     "output_type": "stream",
     "text": [
      "Best score so far: 303.71164998411547\n"
     ]
    },
    {
     "name": "stderr",
     "output_type": "stream",
     "text": [
      "C:\\Users\\asus\\anaconda3\\lib\\site-packages\\statsmodels\\tsa\\holtwinters\\model.py:83: RuntimeWarning: overflow encountered in matmul\n",
      "  return err.T @ err\n",
      "C:\\Users\\asus\\anaconda3\\lib\\site-packages\\statsmodels\\tsa\\holtwinters\\model.py:83: RuntimeWarning: overflow encountered in matmul\n",
      "  return err.T @ err\n",
      "C:\\Users\\asus\\anaconda3\\lib\\site-packages\\statsmodels\\tsa\\holtwinters\\model.py:83: RuntimeWarning: overflow encountered in matmul\n",
      "  return err.T @ err\n",
      "C:\\Users\\asus\\anaconda3\\lib\\site-packages\\statsmodels\\tsa\\holtwinters\\model.py:83: RuntimeWarning: overflow encountered in matmul\n",
      "  return err.T @ err\n",
      "C:\\Users\\asus\\anaconda3\\lib\\site-packages\\statsmodels\\tsa\\holtwinters\\model.py:83: RuntimeWarning: overflow encountered in matmul\n",
      "  return err.T @ err\n",
      "C:\\Users\\asus\\anaconda3\\lib\\site-packages\\statsmodels\\tsa\\holtwinters\\model.py:83: RuntimeWarning: overflow encountered in matmul\n",
      "  return err.T @ err\n",
      "C:\\Users\\asus\\anaconda3\\lib\\site-packages\\statsmodels\\tsa\\holtwinters\\model.py:83: RuntimeWarning: overflow encountered in matmul\n",
      "  return err.T @ err\n",
      "C:\\Users\\asus\\anaconda3\\lib\\site-packages\\statsmodels\\tsa\\holtwinters\\model.py:83: RuntimeWarning: overflow encountered in matmul\n",
      "  return err.T @ err\n",
      "C:\\Users\\asus\\anaconda3\\lib\\site-packages\\statsmodels\\tsa\\holtwinters\\model.py:83: RuntimeWarning: overflow encountered in matmul\n",
      "  return err.T @ err\n",
      "C:\\Users\\asus\\anaconda3\\lib\\site-packages\\statsmodels\\tsa\\holtwinters\\model.py:83: RuntimeWarning: overflow encountered in matmul\n",
      "  return err.T @ err\n",
      "C:\\Users\\asus\\anaconda3\\lib\\site-packages\\statsmodels\\tsa\\holtwinters\\model.py:83: RuntimeWarning: overflow encountered in matmul\n",
      "  return err.T @ err\n",
      "C:\\Users\\asus\\anaconda3\\lib\\site-packages\\statsmodels\\tsa\\holtwinters\\model.py:83: RuntimeWarning: overflow encountered in matmul\n",
      "  return err.T @ err\n",
      "C:\\Users\\asus\\anaconda3\\lib\\site-packages\\statsmodels\\tsa\\holtwinters\\model.py:83: RuntimeWarning: overflow encountered in matmul\n",
      "  return err.T @ err\n",
      "C:\\Users\\asus\\anaconda3\\lib\\site-packages\\statsmodels\\tsa\\holtwinters\\model.py:83: RuntimeWarning: overflow encountered in matmul\n",
      "  return err.T @ err\n",
      "C:\\Users\\asus\\anaconda3\\lib\\site-packages\\statsmodels\\tsa\\holtwinters\\model.py:83: RuntimeWarning: overflow encountered in matmul\n",
      "  return err.T @ err\n",
      "C:\\Users\\asus\\anaconda3\\lib\\site-packages\\statsmodels\\tsa\\holtwinters\\model.py:83: RuntimeWarning: overflow encountered in matmul\n",
      "  return err.T @ err\n",
      "C:\\Users\\asus\\anaconda3\\lib\\site-packages\\statsmodels\\tsa\\holtwinters\\model.py:83: RuntimeWarning: overflow encountered in matmul\n",
      "  return err.T @ err\n",
      "C:\\Users\\asus\\anaconda3\\lib\\site-packages\\statsmodels\\tsa\\holtwinters\\model.py:83: RuntimeWarning: overflow encountered in matmul\n",
      "  return err.T @ err\n",
      "C:\\Users\\asus\\anaconda3\\lib\\site-packages\\statsmodels\\tsa\\holtwinters\\model.py:83: RuntimeWarning: overflow encountered in matmul\n",
      "  return err.T @ err\n",
      "C:\\Users\\asus\\anaconda3\\lib\\site-packages\\statsmodels\\tsa\\holtwinters\\model.py:83: RuntimeWarning: overflow encountered in matmul\n",
      "  return err.T @ err\n",
      "C:\\Users\\asus\\anaconda3\\lib\\site-packages\\statsmodels\\tsa\\holtwinters\\model.py:83: RuntimeWarning: overflow encountered in matmul\n",
      "  return err.T @ err\n",
      "C:\\Users\\asus\\anaconda3\\lib\\site-packages\\statsmodels\\tsa\\holtwinters\\model.py:83: RuntimeWarning: overflow encountered in matmul\n",
      "  return err.T @ err\n",
      "C:\\Users\\asus\\anaconda3\\lib\\site-packages\\statsmodels\\tsa\\holtwinters\\model.py:83: RuntimeWarning: overflow encountered in matmul\n",
      "  return err.T @ err\n",
      "C:\\Users\\asus\\anaconda3\\lib\\site-packages\\statsmodels\\tsa\\holtwinters\\model.py:83: RuntimeWarning: overflow encountered in matmul\n",
      "  return err.T @ err\n",
      "C:\\Users\\asus\\anaconda3\\lib\\site-packages\\statsmodels\\tsa\\holtwinters\\model.py:83: RuntimeWarning: overflow encountered in matmul\n",
      "  return err.T @ err\n",
      "C:\\Users\\asus\\anaconda3\\lib\\site-packages\\statsmodels\\tsa\\holtwinters\\model.py:83: RuntimeWarning: overflow encountered in matmul\n",
      "  return err.T @ err\n",
      "C:\\Users\\asus\\anaconda3\\lib\\site-packages\\statsmodels\\tsa\\holtwinters\\model.py:83: RuntimeWarning: overflow encountered in matmul\n",
      "  return err.T @ err\n",
      "C:\\Users\\asus\\anaconda3\\lib\\site-packages\\statsmodels\\tsa\\holtwinters\\model.py:83: RuntimeWarning: overflow encountered in matmul\n",
      "  return err.T @ err\n",
      "C:\\Users\\asus\\anaconda3\\lib\\site-packages\\statsmodels\\tsa\\holtwinters\\model.py:83: RuntimeWarning: overflow encountered in matmul\n",
      "  return err.T @ err\n",
      "C:\\Users\\asus\\anaconda3\\lib\\site-packages\\statsmodels\\tsa\\holtwinters\\model.py:83: RuntimeWarning: overflow encountered in matmul\n",
      "  return err.T @ err\n",
      "C:\\Users\\asus\\anaconda3\\lib\\site-packages\\statsmodels\\tsa\\holtwinters\\model.py:83: RuntimeWarning: overflow encountered in matmul\n",
      "  return err.T @ err\n",
      "C:\\Users\\asus\\anaconda3\\lib\\site-packages\\statsmodels\\tsa\\holtwinters\\model.py:83: RuntimeWarning: overflow encountered in matmul\n",
      "  return err.T @ err\n",
      "C:\\Users\\asus\\anaconda3\\lib\\site-packages\\statsmodels\\tsa\\holtwinters\\model.py:83: RuntimeWarning: overflow encountered in matmul\n",
      "  return err.T @ err\n",
      "C:\\Users\\asus\\anaconda3\\lib\\site-packages\\statsmodels\\tsa\\holtwinters\\model.py:83: RuntimeWarning: overflow encountered in matmul\n",
      "  return err.T @ err\n",
      "C:\\Users\\asus\\anaconda3\\lib\\site-packages\\statsmodels\\tsa\\holtwinters\\model.py:83: RuntimeWarning: overflow encountered in matmul\n",
      "  return err.T @ err\n",
      "C:\\Users\\asus\\anaconda3\\lib\\site-packages\\statsmodels\\tsa\\holtwinters\\model.py:83: RuntimeWarning: overflow encountered in matmul\n",
      "  return err.T @ err\n",
      "C:\\Users\\asus\\anaconda3\\lib\\site-packages\\statsmodels\\tsa\\holtwinters\\model.py:83: RuntimeWarning: overflow encountered in matmul\n",
      "  return err.T @ err\n",
      "C:\\Users\\asus\\anaconda3\\lib\\site-packages\\statsmodels\\tsa\\holtwinters\\model.py:83: RuntimeWarning: overflow encountered in matmul\n",
      "  return err.T @ err\n",
      "C:\\Users\\asus\\anaconda3\\lib\\site-packages\\statsmodels\\tsa\\holtwinters\\model.py:83: RuntimeWarning: overflow encountered in matmul\n",
      "  return err.T @ err\n",
      "C:\\Users\\asus\\anaconda3\\lib\\site-packages\\statsmodels\\tsa\\holtwinters\\model.py:83: RuntimeWarning: overflow encountered in matmul\n",
      "  return err.T @ err\n",
      "C:\\Users\\asus\\anaconda3\\lib\\site-packages\\statsmodels\\tsa\\holtwinters\\model.py:83: RuntimeWarning: overflow encountered in matmul\n",
      "  return err.T @ err\n",
      "C:\\Users\\asus\\anaconda3\\lib\\site-packages\\statsmodels\\tsa\\holtwinters\\model.py:83: RuntimeWarning: overflow encountered in matmul\n",
      "  return err.T @ err\n",
      "C:\\Users\\asus\\anaconda3\\lib\\site-packages\\statsmodels\\tsa\\holtwinters\\model.py:83: RuntimeWarning: overflow encountered in matmul\n",
      "  return err.T @ err\n",
      "C:\\Users\\asus\\anaconda3\\lib\\site-packages\\statsmodels\\tsa\\holtwinters\\model.py:83: RuntimeWarning: overflow encountered in matmul\n",
      "  return err.T @ err\n",
      "C:\\Users\\asus\\anaconda3\\lib\\site-packages\\statsmodels\\tsa\\holtwinters\\model.py:83: RuntimeWarning: overflow encountered in matmul\n",
      "  return err.T @ err\n",
      "C:\\Users\\asus\\anaconda3\\lib\\site-packages\\statsmodels\\tsa\\holtwinters\\model.py:83: RuntimeWarning: overflow encountered in matmul\n",
      "  return err.T @ err\n",
      "C:\\Users\\asus\\anaconda3\\lib\\site-packages\\statsmodels\\tsa\\holtwinters\\model.py:83: RuntimeWarning: overflow encountered in matmul\n",
      "  return err.T @ err\n",
      "C:\\Users\\asus\\anaconda3\\lib\\site-packages\\statsmodels\\tsa\\holtwinters\\model.py:83: RuntimeWarning: overflow encountered in matmul\n",
      "  return err.T @ err\n",
      "C:\\Users\\asus\\anaconda3\\lib\\site-packages\\statsmodels\\tsa\\holtwinters\\model.py:83: RuntimeWarning: overflow encountered in matmul\n",
      "  return err.T @ err\n",
      "C:\\Users\\asus\\anaconda3\\lib\\site-packages\\statsmodels\\tsa\\holtwinters\\model.py:83: RuntimeWarning: overflow encountered in matmul\n",
      "  return err.T @ err\n",
      "C:\\Users\\asus\\anaconda3\\lib\\site-packages\\statsmodels\\tsa\\holtwinters\\model.py:83: RuntimeWarning: overflow encountered in matmul\n",
      "  return err.T @ err\n",
      "C:\\Users\\asus\\anaconda3\\lib\\site-packages\\statsmodels\\tsa\\holtwinters\\model.py:83: RuntimeWarning: overflow encountered in matmul\n",
      "  return err.T @ err\n",
      "C:\\Users\\asus\\anaconda3\\lib\\site-packages\\statsmodels\\tsa\\holtwinters\\model.py:83: RuntimeWarning: overflow encountered in matmul\n",
      "  return err.T @ err\n",
      "C:\\Users\\asus\\anaconda3\\lib\\site-packages\\statsmodels\\tsa\\holtwinters\\model.py:83: RuntimeWarning: overflow encountered in matmul\n",
      "  return err.T @ err\n",
      "C:\\Users\\asus\\anaconda3\\lib\\site-packages\\statsmodels\\tsa\\holtwinters\\model.py:83: RuntimeWarning: overflow encountered in matmul\n",
      "  return err.T @ err\n",
      "C:\\Users\\asus\\anaconda3\\lib\\site-packages\\statsmodels\\tsa\\holtwinters\\model.py:83: RuntimeWarning: overflow encountered in matmul\n",
      "  return err.T @ err\n",
      "C:\\Users\\asus\\anaconda3\\lib\\site-packages\\statsmodels\\tsa\\holtwinters\\model.py:83: RuntimeWarning: overflow encountered in matmul\n",
      "  return err.T @ err\n",
      "C:\\Users\\asus\\anaconda3\\lib\\site-packages\\statsmodels\\tsa\\holtwinters\\model.py:83: RuntimeWarning: overflow encountered in matmul\n",
      "  return err.T @ err\n",
      "C:\\Users\\asus\\anaconda3\\lib\\site-packages\\statsmodels\\tsa\\holtwinters\\model.py:83: RuntimeWarning: overflow encountered in matmul\n",
      "  return err.T @ err\n",
      "C:\\Users\\asus\\anaconda3\\lib\\site-packages\\statsmodels\\tsa\\holtwinters\\model.py:83: RuntimeWarning: overflow encountered in matmul\n",
      "  return err.T @ err\n"
     ]
    },
    {
     "name": "stdout",
     "output_type": "stream",
     "text": [
      "Best score so far: 263.33618316574746\n"
     ]
    },
    {
     "name": "stderr",
     "output_type": "stream",
     "text": [
      "C:\\Users\\asus\\anaconda3\\lib\\site-packages\\statsmodels\\tsa\\holtwinters\\model.py:83: RuntimeWarning: overflow encountered in matmul\n",
      "  return err.T @ err\n",
      "C:\\Users\\asus\\anaconda3\\lib\\site-packages\\statsmodels\\tsa\\holtwinters\\model.py:83: RuntimeWarning: overflow encountered in matmul\n",
      "  return err.T @ err\n",
      "C:\\Users\\asus\\anaconda3\\lib\\site-packages\\statsmodels\\tsa\\holtwinters\\model.py:83: RuntimeWarning: overflow encountered in matmul\n",
      "  return err.T @ err\n",
      "C:\\Users\\asus\\anaconda3\\lib\\site-packages\\statsmodels\\tsa\\holtwinters\\model.py:83: RuntimeWarning: overflow encountered in matmul\n",
      "  return err.T @ err\n",
      "C:\\Users\\asus\\anaconda3\\lib\\site-packages\\statsmodels\\tsa\\holtwinters\\model.py:83: RuntimeWarning: overflow encountered in matmul\n",
      "  return err.T @ err\n",
      "C:\\Users\\asus\\anaconda3\\lib\\site-packages\\statsmodels\\tsa\\holtwinters\\model.py:83: RuntimeWarning: overflow encountered in matmul\n",
      "  return err.T @ err\n",
      "C:\\Users\\asus\\anaconda3\\lib\\site-packages\\statsmodels\\tsa\\holtwinters\\model.py:83: RuntimeWarning: overflow encountered in matmul\n",
      "  return err.T @ err\n",
      "C:\\Users\\asus\\anaconda3\\lib\\site-packages\\statsmodels\\tsa\\holtwinters\\model.py:83: RuntimeWarning: overflow encountered in matmul\n",
      "  return err.T @ err\n",
      "C:\\Users\\asus\\anaconda3\\lib\\site-packages\\statsmodels\\tsa\\holtwinters\\model.py:83: RuntimeWarning: overflow encountered in matmul\n",
      "  return err.T @ err\n",
      "C:\\Users\\asus\\anaconda3\\lib\\site-packages\\statsmodels\\tsa\\holtwinters\\model.py:83: RuntimeWarning: overflow encountered in matmul\n",
      "  return err.T @ err\n",
      "C:\\Users\\asus\\anaconda3\\lib\\site-packages\\statsmodels\\tsa\\holtwinters\\model.py:83: RuntimeWarning: overflow encountered in matmul\n",
      "  return err.T @ err\n",
      "C:\\Users\\asus\\anaconda3\\lib\\site-packages\\statsmodels\\tsa\\holtwinters\\model.py:83: RuntimeWarning: overflow encountered in matmul\n",
      "  return err.T @ err\n",
      "C:\\Users\\asus\\anaconda3\\lib\\site-packages\\statsmodels\\tsa\\holtwinters\\model.py:83: RuntimeWarning: overflow encountered in matmul\n",
      "  return err.T @ err\n",
      "C:\\Users\\asus\\anaconda3\\lib\\site-packages\\statsmodels\\tsa\\holtwinters\\model.py:83: RuntimeWarning: overflow encountered in matmul\n",
      "  return err.T @ err\n",
      "C:\\Users\\asus\\anaconda3\\lib\\site-packages\\statsmodels\\tsa\\holtwinters\\model.py:83: RuntimeWarning: overflow encountered in matmul\n",
      "  return err.T @ err\n",
      "C:\\Users\\asus\\anaconda3\\lib\\site-packages\\statsmodels\\tsa\\holtwinters\\model.py:83: RuntimeWarning: overflow encountered in matmul\n",
      "  return err.T @ err\n",
      "C:\\Users\\asus\\anaconda3\\lib\\site-packages\\statsmodels\\tsa\\holtwinters\\model.py:83: RuntimeWarning: overflow encountered in matmul\n",
      "  return err.T @ err\n",
      "C:\\Users\\asus\\anaconda3\\lib\\site-packages\\statsmodels\\tsa\\holtwinters\\model.py:83: RuntimeWarning: overflow encountered in matmul\n",
      "  return err.T @ err\n",
      "C:\\Users\\asus\\anaconda3\\lib\\site-packages\\statsmodels\\tsa\\holtwinters\\model.py:83: RuntimeWarning: overflow encountered in matmul\n",
      "  return err.T @ err\n",
      "C:\\Users\\asus\\anaconda3\\lib\\site-packages\\statsmodels\\tsa\\holtwinters\\model.py:83: RuntimeWarning: overflow encountered in matmul\n",
      "  return err.T @ err\n",
      "C:\\Users\\asus\\anaconda3\\lib\\site-packages\\statsmodels\\tsa\\holtwinters\\model.py:83: RuntimeWarning: overflow encountered in matmul\n",
      "  return err.T @ err\n",
      "C:\\Users\\asus\\anaconda3\\lib\\site-packages\\statsmodels\\tsa\\holtwinters\\model.py:83: RuntimeWarning: overflow encountered in matmul\n",
      "  return err.T @ err\n",
      "C:\\Users\\asus\\anaconda3\\lib\\site-packages\\statsmodels\\tsa\\holtwinters\\model.py:83: RuntimeWarning: overflow encountered in matmul\n",
      "  return err.T @ err\n",
      "C:\\Users\\asus\\anaconda3\\lib\\site-packages\\statsmodels\\tsa\\holtwinters\\model.py:83: RuntimeWarning: overflow encountered in matmul\n",
      "  return err.T @ err\n",
      "C:\\Users\\asus\\anaconda3\\lib\\site-packages\\statsmodels\\tsa\\holtwinters\\model.py:83: RuntimeWarning: overflow encountered in matmul\n",
      "  return err.T @ err\n",
      "C:\\Users\\asus\\anaconda3\\lib\\site-packages\\statsmodels\\tsa\\holtwinters\\model.py:83: RuntimeWarning: overflow encountered in matmul\n",
      "  return err.T @ err\n",
      "C:\\Users\\asus\\anaconda3\\lib\\site-packages\\statsmodels\\tsa\\holtwinters\\model.py:83: RuntimeWarning: overflow encountered in matmul\n",
      "  return err.T @ err\n",
      "C:\\Users\\asus\\anaconda3\\lib\\site-packages\\statsmodels\\tsa\\holtwinters\\model.py:83: RuntimeWarning: overflow encountered in matmul\n",
      "  return err.T @ err\n",
      "C:\\Users\\asus\\anaconda3\\lib\\site-packages\\statsmodels\\tsa\\holtwinters\\model.py:83: RuntimeWarning: overflow encountered in matmul\n",
      "  return err.T @ err\n",
      "C:\\Users\\asus\\anaconda3\\lib\\site-packages\\statsmodels\\tsa\\holtwinters\\model.py:83: RuntimeWarning: overflow encountered in matmul\n",
      "  return err.T @ err\n",
      "C:\\Users\\asus\\anaconda3\\lib\\site-packages\\statsmodels\\tsa\\holtwinters\\model.py:83: RuntimeWarning: overflow encountered in matmul\n",
      "  return err.T @ err\n",
      "C:\\Users\\asus\\anaconda3\\lib\\site-packages\\statsmodels\\tsa\\holtwinters\\model.py:83: RuntimeWarning: overflow encountered in matmul\n",
      "  return err.T @ err\n"
     ]
    }
   ],
   "source": [
    "best_score = float('inf')\n",
    "best_options = None\n",
    "for x in itertools.product(*tuple_of_option_lists):\n",
    "    score = walkforward(*x)\n",
    "    \n",
    "    if score < best_score:\n",
    "        print (\"Best score so far:\", score)\n",
    "        best_score = score\n",
    "        best_options = x"
   ]
  },
  {
   "cell_type": "markdown",
   "id": "0e0139a4",
   "metadata": {},
   "source": [
    "We get some warnings about overflows. This probably not an issue since it just means we'll get a bad model"
   ]
  },
  {
   "cell_type": "markdown",
   "id": "5eb8831a",
   "metadata": {},
   "source": [
    "### Step 6: Check the best scores"
   ]
  },
  {
   "cell_type": "code",
   "execution_count": 19,
   "id": "4aab3a87",
   "metadata": {},
   "outputs": [
    {
     "name": "stdout",
     "output_type": "stream",
     "text": [
      "best score: 263.33618316574746\n",
      "Trend type: mul\n",
      "Seasonal type: mul\n",
      "Damped trend: True\n",
      "Initialization method: legacy-heuristic\n",
      "Use boxcox: False\n"
     ]
    }
   ],
   "source": [
    "print (\"best score:\", best_score)\n",
    "\n",
    "trend_type, seasonal_type, damped_trend, init_method, use_boxcox = best_options\n",
    "print (\"Trend type:\", trend_type)\n",
    "print (\"Seasonal type:\", seasonal_type)\n",
    "print (\"Damped trend:\", damped_trend)\n",
    "print (\"Initialization method:\", init_method)\n",
    "print (\"Use boxcox:\", use_boxcox)"
   ]
  },
  {
   "cell_type": "markdown",
   "id": "56087a4d",
   "metadata": {},
   "source": [
    "We can see that the best options for trend and seasonal type are multiplicative. This make sense since the seasonal pattern seems to grow over time for airline passengers"
   ]
  }
 ],
 "metadata": {
  "kernelspec": {
   "display_name": "Python 3 (ipykernel)",
   "language": "python",
   "name": "python3"
  },
  "language_info": {
   "codemirror_mode": {
    "name": "ipython",
    "version": 3
   },
   "file_extension": ".py",
   "mimetype": "text/x-python",
   "name": "python",
   "nbconvert_exporter": "python",
   "pygments_lexer": "ipython3",
   "version": "3.9.12"
  }
 },
 "nbformat": 4,
 "nbformat_minor": 5
}
